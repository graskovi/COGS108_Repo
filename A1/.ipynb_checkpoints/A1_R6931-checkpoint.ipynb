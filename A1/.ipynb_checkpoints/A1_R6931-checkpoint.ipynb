{
 "cells": [
  {
   "cell_type": "markdown",
   "metadata": {
    "deletable": false,
    "editable": false,
    "nbgrader": {
     "checksum": "79d3a855b9a8de85ba0c2e738f26eb6d",
     "grade": false,
     "grade_id": "header-1",
     "locked": true,
     "schema_version": 1,
     "solution": false
    }
   },
   "source": [
    "# COGS 108 - Assignment 1: Setting Up\n",
    "\n",
    "This assignment covers Python, git, and Github. \n",
    "\n",
    "Visit the relevant tutorials on https://github.com/COGS108/Tutorials for guidance for these topics.\n",
    "\n",
    "This assignment is out of 12 points, worth 12% of your grade."
   ]
  },
  {
   "cell_type": "markdown",
   "metadata": {
    "deletable": false,
    "editable": false,
    "nbgrader": {
     "checksum": "abb49377ee13fa6b732a95a65b0316d0",
     "grade": false,
     "grade_id": "filename_msg",
     "locked": true,
     "schema_version": 1,
     "solution": false
    }
   },
   "source": [
    "## IMPORTANT - FILE NAMING\n",
    "\n",
    "For this and all other assignments you will be renaming them using your unique 'course ID'. \n",
    "\n",
    "This 'course ID' is comprised of the first letter of your last name, followed by the last 4 numbers of your student ID. \n",
    "\n",
    "So, a hypothetical student, A. Turing, with student number A10010101 would have course ID: T0101\n",
    "\n",
    "### Rename this file to 'A1_$####.ipynb'\n"
   ]
  },
  {
   "cell_type": "markdown",
   "metadata": {
    "collapsed": true,
    "deletable": false,
    "editable": false,
    "nbgrader": {
     "checksum": "a42f53dfb060460ea3fe81463931dbb5",
     "grade": false,
     "grade_id": "header-2",
     "locked": true,
     "schema_version": 1,
     "solution": false
    }
   },
   "source": [
    "## ALSO IMPORTANT\n",
    "\n",
    "### In the markdown cell below, write in your Student ID, unique course ID, Github username. \n",
    "\n",
    "The details you enter below will be how we get your account details to check that you have completed the Github portions of this assignment.\n",
    "\n",
    "Please do not remove anything from the cell below, just add in the requested information to each line."
   ]
  },
  {
   "cell_type": "markdown",
   "metadata": {
    "collapsed": true
   },
   "source": [
    "My Student ID number is: A13376931\n",
    "\n",
    "My Course ID is: R6931\n",
    "\n",
    "^This is the same 'course ID' you created above, the same used in the name of this file.\n",
    "\n",
    "My Github username is: graskovi\n",
    "\n",
    "^Make sure this is your username, not the email address you used to create the account."
   ]
  },
  {
   "cell_type": "markdown",
   "metadata": {
    "deletable": false,
    "editable": false,
    "nbgrader": {
     "checksum": "5c491fec63907793949e6f64f3d22e32",
     "grade": false,
     "grade_id": "cell-474234f24f984b8b",
     "locked": true,
     "schema_version": 1,
     "solution": false
    }
   },
   "source": [
    "The following couple cells are checks that you are running the right tools for these assignments.\n",
    "\n",
    "If either of them fail, you will need to update some things. If you are not sure how, ask in office hours."
   ]
  },
  {
   "cell_type": "code",
   "execution_count": 1,
   "metadata": {
    "deletable": false,
    "editable": false,
    "nbgrader": {
     "checksum": "a88995758a90dc6735d2f00cec201b28",
     "grade": false,
     "grade_id": "cell-7aa052f9d764c077",
     "locked": true,
     "schema_version": 1,
     "solution": false
    }
   },
   "outputs": [],
   "source": [
    "# These assignments require Python 3 (not Python 2).\n",
    "#  Run this cell to check your version of Python.\n",
    "import sys\n",
    "assert sys.version_info[0] == 3, \"You must use Python 3 (preferably 3.6) for these assignments.\""
   ]
  },
  {
   "cell_type": "code",
   "execution_count": 2,
   "metadata": {
    "deletable": false,
    "editable": false,
    "nbgrader": {
     "checksum": "a3bfd1572cfeb02d4b6e18ef2c4fc660",
     "grade": false,
     "grade_id": "cell-8a898f9a42a00c16",
     "locked": true,
     "schema_version": 1,
     "solution": false
    }
   },
   "outputs": [],
   "source": [
    "# Run this cell to check your version of IPython. \n",
    "#  If you get an error (the message prints out), stop and upgrade Jupyter.\n",
    "import IPython\n",
    "assert IPython.version_info[0] >= 3, \"Your version of IPython is too old, please update it.\""
   ]
  },
  {
   "cell_type": "markdown",
   "metadata": {
    "collapsed": true,
    "deletable": false,
    "editable": false,
    "nbgrader": {
     "checksum": "b9a59a1f1f83c4216a60377726c0b51b",
     "grade": false,
     "grade_id": "part1-instr",
     "locked": true,
     "schema_version": 1,
     "solution": false
    }
   },
   "source": [
    "## Part 1 (6 points)\n",
    "\n",
    "Follow along on the instructions in the assignment description to do Part 1 of the assignment with git/Github."
   ]
  },
  {
   "cell_type": "markdown",
   "metadata": {
    "deletable": false,
    "editable": false,
    "nbgrader": {
     "checksum": "8850eae8caa0f3ea23f6875b438320f0",
     "grade": false,
     "grade_id": "part2-instr",
     "locked": true,
     "schema_version": 1,
     "solution": false
    }
   },
   "source": [
    "## Part 2 (6 points)\n",
    "\n",
    "This part of the assignment is focused on some practice with Python, and with practicing working with the format of the assignments. \n",
    "\n",
    "This class assumes some prior knowledge of Python. In the following questions, you will need to work with basic (standard library) data types (floats, lists, dictionaries, etc.) and control flow (conditionals, loops, functions, etc). If the questions in this section are totally unfamiliar to you, you may need revisit some practice materials to catch up with some of the programming. \n",
    "\n",
    "Through these questions, we will also prompt you to use a couple slightly more advanced standard library functions (for example, 'enumerate' and 'zip'), that may be new to you.\n",
    "\n",
    "Each question should be answerable with a relatively small number of lines of code, up to about 5-7 lines at most. \n",
    "\n",
    "If you are having any trouble, remember to visit the course tutorials (https://github.com/COGS108/Tutorials). Assignment questions often follow the structure of examples provided in the tutorials, and a large number of relevant links and external materials are also indexed in the tutorials. "
   ]
  },
  {
   "cell_type": "markdown",
   "metadata": {
    "deletable": false,
    "editable": false,
    "nbgrader": {
     "checksum": "1d464e7e60099539a9a2b2498b8e2370",
     "grade": false,
     "grade_id": "cell-e951fd233967468a",
     "locked": true,
     "schema_version": 1,
     "solution": false
    }
   },
   "source": [
    "### How to complete assignments\n",
    "\n",
    "Whenever you see:\n",
    "\n",
    "YOUR CODE HERE <br>\n",
    "raise NotImplementedError()\n",
    "\n",
    "You need to replace this section with some code that answers the questions and meets the specified criteria. Make sure you remove the 'raise' line when you do this (or your notebook will raise an error, regardless of any other code, and thus fail the grading tests).\n",
    "\n",
    "Recall that any cell with 'assert' statements in it is a test cell. You should not try to change or delete these cells.\n",
    "\n",
    "Note that there might be more than one assert that tests a particular question. \n",
    "\n",
    "If a test does fail, reading the error that is printed out should let you know which test failed, which may be useful for fixing it."
   ]
  },
  {
   "cell_type": "code",
   "execution_count": 3,
   "metadata": {
    "deletable": false,
    "editable": false,
    "nbgrader": {
     "checksum": "65268ebb5af62f76a9b8ce9b6e51f668",
     "grade": false,
     "grade_id": "cell-182bb77c3bd740b3",
     "locked": true,
     "schema_version": 1,
     "solution": false
    }
   },
   "outputs": [
    {
     "name": "stdout",
     "output_type": "stream",
     "text": [
      "8\n"
     ]
    }
   ],
   "source": [
    "# PRINTING VARIABLES\n",
    "# A reminder that you can (and should) print and check variables as you go.\n",
    "#  This allows you to check what values they hold, and debug if anything unexpected happens.\n",
    "\n",
    "# Define a variable\n",
    "math_result = 2 * 4\n",
    "\n",
    "# Print out the value(s) of a variable.\n",
    "print(math_result)"
   ]
  },
  {
   "cell_type": "code",
   "execution_count": 4,
   "metadata": {
    "deletable": false,
    "nbgrader": {
     "checksum": "2f7cd1766019e8b508e095c04b4f2f06",
     "grade": false,
     "grade_id": "cell-4db8c933a259ed1b",
     "locked": false,
     "schema_version": 1,
     "solution": true
    }
   },
   "outputs": [],
   "source": [
    "# Q1 - Defining variables (1 point)\n",
    "\n",
    "# Define a list, called 'var_a', that contains individual letters a-j (inclusively).\n",
    "# Define a tuple, called 'var_b', that contains the numbers 1-10 (inclusively).\n",
    "\n",
    "# YOUR CODE HERE\n",
    "var_a = ['a', 'b', 'c', 'd', 'e', 'f', 'g', 'h', 'i', 'j']\n",
    "var_b = (1, 2, 3, 4, 5, 6, 7, 8, 9, 10)"
   ]
  },
  {
   "cell_type": "code",
   "execution_count": 5,
   "metadata": {
    "deletable": false,
    "editable": false,
    "nbgrader": {
     "checksum": "7926b91af6bce4e75f1944ddeb79cf6f",
     "grade": true,
     "grade_id": "cell-88582fbb27969b63",
     "locked": true,
     "points": 1,
     "schema_version": 1,
     "solution": false
    }
   },
   "outputs": [],
   "source": [
    "# Tests for Q1\n",
    "\n",
    "# These tests check the variables are defined\n",
    "assert var_a\n",
    "assert var_b\n",
    "\n",
    "# These tests check that the variables are the right data types\n",
    "assert isinstance(var_a, list)\n",
    "assert isinstance(var_b, tuple)\n",
    "\n",
    "# These tests check the variables have the right values\n",
    "assert var_a == ['a', 'b', 'c', 'd', 'e', 'f', 'g', 'h', 'i', 'j']\n",
    "assert var_b == (1, 2, 3, 4, 5, 6, 7, 8, 9, 10)"
   ]
  },
  {
   "cell_type": "code",
   "execution_count": 6,
   "metadata": {
    "deletable": false,
    "nbgrader": {
     "checksum": "3016c87dc0cfec703fba7758a679ac13",
     "grade": false,
     "grade_id": "cell-a0c9ee8ea65481d3",
     "locked": false,
     "schema_version": 1,
     "solution": true
    }
   },
   "outputs": [],
   "source": [
    "# Q2 - Defining Variables, Part II (1 point)\n",
    "\n",
    "# Create a dictionary, and call it 'dictionary'.\n",
    "# Fill the dictionary such that each key is an element from 'var_a',\n",
    "#  and each value is the corresponding element from 'var_b'.\n",
    "# Hint: one useful function for this you can use is 'zip'.\n",
    "\n",
    "# YOUR CODE HERE\n",
    "dictionary = dict(zip(var_a, var_b))"
   ]
  },
  {
   "cell_type": "code",
   "execution_count": 7,
   "metadata": {
    "deletable": false,
    "editable": false,
    "nbgrader": {
     "checksum": "85222a32b3142797e8ddfebd34f18505",
     "grade": true,
     "grade_id": "cell-611de86b26434b5e",
     "locked": true,
     "points": 1,
     "schema_version": 1,
     "solution": false
    }
   },
   "outputs": [],
   "source": [
    "# Tests for Q2\n",
    "assert dictionary\n",
    "\n",
    "# There are also some hidden tests that check the contents of dictionary"
   ]
  },
  {
   "cell_type": "code",
   "execution_count": 8,
   "metadata": {
    "deletable": false,
    "nbgrader": {
     "checksum": "194748e0d99de2d5a313cf5fcbb33338",
     "grade": false,
     "grade_id": "cell-5c803671612c731a",
     "locked": false,
     "schema_version": 1,
     "solution": true
    }
   },
   "outputs": [],
   "source": [
    "# Q3 - Control Flow (1 point)\n",
    "\n",
    "# These variables are provided to you.\n",
    "lst = [1, 2, 3, 4, 5, 6]\n",
    "inds = []\n",
    "\n",
    "# Loop through the provided list 'lst'. For each element, check if it is an even number.\n",
    "#  If the element is an even number, add the INDEX of that element to the list 'inds'.\n",
    "#    Note that you are adding the index to 'inds', not the element itself.\n",
    "# Hint: to check if a number is even, you can use the modulo '%' operator.\n",
    "# Hint: to loop through an iterable, keeping track of the index, you can use the 'enumerate' function.\n",
    "\n",
    "# YOUR CODE HERE\n",
    "for i, l in enumerate(lst):\n",
    "    if l % 2 == 0:\n",
    "        inds.append(i)"
   ]
  },
  {
   "cell_type": "code",
   "execution_count": 9,
   "metadata": {
    "deletable": false,
    "editable": false,
    "nbgrader": {
     "checksum": "682e2307ef4480f045040f415efbfcbc",
     "grade": true,
     "grade_id": "cell-90cd314531614439",
     "locked": true,
     "points": 1,
     "schema_version": 1,
     "solution": false
    }
   },
   "outputs": [],
   "source": [
    "# Test for Q3\n",
    "\n",
    "assert inds\n",
    "\n",
    "# There is also a hidden test that checks the contents of 'inds'"
   ]
  },
  {
   "cell_type": "code",
   "execution_count": 10,
   "metadata": {
    "deletable": false,
    "nbgrader": {
     "checksum": "bf5c63a572e4c5f0ed808c0e95be2495",
     "grade": false,
     "grade_id": "add2",
     "locked": false,
     "schema_version": 1,
     "solution": true
    }
   },
   "outputs": [],
   "source": [
    "# Q4 - Functions (1 point)\n",
    "\n",
    "# Write a function that takes two inputs, adds them together, and returns the result.\n",
    "#  Call the function 'add2'.\n",
    "\n",
    "# YOUR CODE HERE\n",
    "def add2(a, b):\n",
    "    return a + b"
   ]
  },
  {
   "cell_type": "code",
   "execution_count": 11,
   "metadata": {
    "deletable": false,
    "editable": false,
    "nbgrader": {
     "checksum": "24529e064cadf1f2405f41e31e0a7dcc",
     "grade": true,
     "grade_id": "add2-tests",
     "locked": true,
     "points": 1,
     "schema_version": 1,
     "solution": false
    }
   },
   "outputs": [],
   "source": [
    "# Tests for Q4\n",
    "\n",
    "assert add2(1, 2) == 3\n",
    "assert add2(-1, 1) == 0"
   ]
  },
  {
   "cell_type": "code",
   "execution_count": 12,
   "metadata": {
    "deletable": false,
    "nbgrader": {
     "checksum": "11653bf98487e6c7754d2ef00058d6c5",
     "grade": false,
     "grade_id": "cell-50b7166b6554cfff",
     "locked": false,
     "schema_version": 1,
     "solution": true
    }
   },
   "outputs": [],
   "source": [
    "# Q5 - Putting it all together (1 point)\n",
    "\n",
    "# This variable is provided to you.\n",
    "other_dictionary = dict()\n",
    "\n",
    "# We will now fill 'other_dictionary', from data.\n",
    "#  Loop through the key-value pairs in 'dictionary'.\n",
    "#    For each key-value pair, if the value is odd, use the 'add2' to add 1 to the value.\n",
    "#       Add the key and incremented value to 'other_dictionary'.\n",
    "#    Otherwise, add the key-value pair to 'other_dictionary' as is.\n",
    "# Note: to loop through key-value pairs in a dictionary, check out the '.items' method.\n",
    "\n",
    "# YOUR CODE HERE\n",
    "for key, value in dictionary.items():\n",
    "    if value % 2 == 1:\n",
    "        value = add2(1, value)\n",
    "    other_dictionary.update({key: value})"
   ]
  },
  {
   "cell_type": "code",
   "execution_count": 13,
   "metadata": {
    "deletable": false,
    "editable": false,
    "nbgrader": {
     "checksum": "2791276e0199059917e3b03070bbc291",
     "grade": true,
     "grade_id": "cell-234cdbef12134b0d",
     "locked": true,
     "points": 1,
     "schema_version": 1,
     "solution": false
    }
   },
   "outputs": [],
   "source": [
    "# Tests for Q5\n",
    "\n",
    "assert other_dictionary\n",
    "\n",
    "# There are hidden tests that check the contents of 'other_dictionary'."
   ]
  },
  {
   "cell_type": "markdown",
   "metadata": {
    "collapsed": true,
    "deletable": false,
    "editable": false,
    "nbgrader": {
     "checksum": "908569d50586cfd78724ef6ae22b81a6",
     "grade": false,
     "grade_id": "cell-55c1e6316ed77616",
     "locked": true,
     "schema_version": 1,
     "solution": false
    }
   },
   "source": [
    "The next question is just about importing the more core data science modules - but we won't start using them yet. \n",
    "\n",
    "This is just to test that you have them available and working (this is the only time we'll ask you to write out your own import modules in assignments). \n",
    "\n",
    "If you are unable to import them, make sure you have anaconda properly installed (and ask for help in office hours if you can't get them working)."
   ]
  },
  {
   "cell_type": "code",
   "execution_count": 14,
   "metadata": {
    "deletable": false,
    "nbgrader": {
     "checksum": "2322fe49dc7b8d0e6e3566a08c7a9638",
     "grade": false,
     "grade_id": "imports",
     "locked": false,
     "schema_version": 1,
     "solution": true
    }
   },
   "outputs": [],
   "source": [
    "# Q6 - Data Science Modules (1 point)\n",
    "\n",
    "# Import the five core python data science modules, with their typical abbreviations.\n",
    "#  That is, import {numpy, scipy, pandas, matplotlib.pyplot, sklearn} as {np, sp, pd, plt, skl}\n",
    "\n",
    "# YOUR CODE HERE\n",
    "import numpy as np\n",
    "import scipy as sp\n",
    "import pandas as pd\n",
    "import matplotlib.pyplot as plt\n",
    "import sklearn as skl"
   ]
  },
  {
   "cell_type": "code",
   "execution_count": 15,
   "metadata": {
    "deletable": false,
    "editable": false,
    "nbgrader": {
     "checksum": "8cbb8db04caffbcbd8aa250d3a5b0dd3",
     "grade": true,
     "grade_id": "autograder-tests",
     "locked": true,
     "points": 1,
     "schema_version": 1,
     "solution": false
    }
   },
   "outputs": [],
   "source": [
    "# Tests for Q6\n",
    "\n",
    "assert(np)\n",
    "assert(sp)\n",
    "assert(pd)\n",
    "assert(plt)\n",
    "assert(skl)"
   ]
  },
  {
   "cell_type": "code",
   "execution_count": null,
   "metadata": {},
   "outputs": [],
   "source": []
  }
 ],
 "metadata": {
  "anaconda-cloud": {},
  "kernelspec": {
   "display_name": "Python 3",
   "language": "python",
   "name": "python3"
  },
  "language_info": {
   "codemirror_mode": {
    "name": "ipython",
    "version": 3
   },
   "file_extension": ".py",
   "mimetype": "text/x-python",
   "name": "python",
   "nbconvert_exporter": "python",
   "pygments_lexer": "ipython3",
   "version": "3.6.1"
  }
 },
 "nbformat": 4,
 "nbformat_minor": 1
}
