{
 "cells": [
  {
   "cell_type": "markdown",
   "metadata": {
    "collapsed": true,
    "deletable": false,
    "editable": false,
    "nbgrader": {
     "checksum": "69dc79a98716b6e1164c70b1e4e20d44",
     "grade": false,
     "grade_id": "title",
     "locked": true,
     "schema_version": 1,
     "solution": false
    }
   },
   "source": [
    "# COGS 108 - Assignment 2: Data Exploration"
   ]
  },
  {
   "cell_type": "markdown",
   "metadata": {
    "deletable": false,
    "editable": false,
    "nbgrader": {
     "checksum": "6bd43e62af7d49f51ac09948203cccaa",
     "grade": false,
     "grade_id": "submission",
     "locked": true,
     "schema_version": 1,
     "solution": false
    }
   },
   "source": [
    "# Important\n",
    "\n",
    "- Rename this file to 'A2_$####.ipynb' (filled in with your unique course ID) before you submit it. Submit it to TritonED.\n",
    "- This assignment has hidden tests: tests that are not visible here, but that will be run on your submitted assignment.\n",
    "    - This means passing all the tests you can see in the notebook here does not guarantee you have the right answer!\n",
    "- Each coding question in this assignment only requires a small amount of code, about 1-3 lines. \n",
    "    - If you find yourself writing much more than that, you might want to reconsider your approach. \n",
    "    - A reminder that the Tutorials notebooks often contain similar examples to those used in the assignments.\n",
    "- This assignment also has some written answers, in which you will write a short response (in text, not code). \n",
    "    - These questions are referred to as 'W#', and will be followed by a markdown cell in which you can write your answer. \n",
    "    - These are short answer questions, prompting you to think about the approaches we are using. \n",
    "    - You answers can and should be fairly brief, typically about 1-2 sentences."
   ]
  },
  {
   "cell_type": "code",
   "execution_count": 1,
   "metadata": {
    "deletable": false,
    "editable": false,
    "nbgrader": {
     "checksum": "ac51be380aa34b8079a317e965d264cd",
     "grade": false,
     "grade_id": "cell-fca732b050a3b0b8",
     "locked": true,
     "schema_version": 1,
     "solution": false
    }
   },
   "outputs": [],
   "source": [
    "# Imports\n",
    "#  Note: these are all the imports you need! Do not import any other functions / packages\n",
    "%matplotlib inline\n",
    "\n",
    "import numpy as np\n",
    "import pandas as pd\n",
    "import matplotlib.pyplot as plt"
   ]
  },
  {
   "cell_type": "markdown",
   "metadata": {
    "deletable": false,
    "editable": false,
    "nbgrader": {
     "checksum": "c1a90608d79a13475e6c8627c0d0ecbd",
     "grade": false,
     "grade_id": "part1",
     "locked": true,
     "schema_version": 1,
     "solution": false
    }
   },
   "source": [
    "## Part 1 - Data Wrangling\n",
    "\n",
    "For this assignment, you are provided with two data files:\n",
    "- age_steps.csv\n",
    "- name_income_id.json"
   ]
  },
  {
   "cell_type": "code",
   "execution_count": 2,
   "metadata": {
    "deletable": false,
    "nbgrader": {
     "checksum": "13bb8a019e9ddddc303e0d5cc160d445",
     "grade": false,
     "grade_id": "load_steps",
     "locked": false,
     "schema_version": 1,
     "solution": true
    }
   },
   "outputs": [],
   "source": [
    "# 1a) Load the csv file into a pandas dataframe. Call it 'df_steps'.\n",
    "\n",
    "# YOUR CODE HERE\n",
    "filepath_csv = './age_steps.csv'\n",
    "df_steps = pd.read_csv(filepath_csv);"
   ]
  },
  {
   "cell_type": "code",
   "execution_count": 3,
   "metadata": {
    "deletable": false,
    "editable": false,
    "nbgrader": {
     "checksum": "aa0433797200dc12a0ec2eab981f6a3c",
     "grade": true,
     "grade_id": "test_load_steps",
     "locked": true,
     "points": 0.5,
     "schema_version": 1,
     "solution": false
    }
   },
   "outputs": [],
   "source": [
    "# Tests for 1a\n",
    "\n",
    "assert isinstance(df_steps, pd.DataFrame)\n"
   ]
  },
  {
   "cell_type": "code",
   "execution_count": 4,
   "metadata": {
    "deletable": false,
    "nbgrader": {
     "checksum": "260c6ee35c63b51b899bd42a11c16bb0",
     "grade": false,
     "grade_id": "load_income",
     "locked": false,
     "schema_version": 1,
     "solution": true
    }
   },
   "outputs": [],
   "source": [
    "# 1b) Load the json file into a (different) pandas dataframe. Call it 'df_income'.\n",
    "\n",
    "# YOUR CODE HERE\n",
    "filepath_json = './name_income_id.json'\n",
    "df_income = pd.read_json(filepath_json)"
   ]
  },
  {
   "cell_type": "code",
   "execution_count": 5,
   "metadata": {
    "deletable": false,
    "editable": false,
    "nbgrader": {
     "checksum": "7a83fda67ef4e043d115ded5924194df",
     "grade": true,
     "grade_id": "test_load_income",
     "locked": true,
     "points": 0.5,
     "schema_version": 1,
     "solution": false
    }
   },
   "outputs": [],
   "source": [
    "# Tests for 1b\n",
    "\n",
    "assert isinstance(df_income, pd.DataFrame)\n"
   ]
  },
  {
   "cell_type": "code",
   "execution_count": 6,
   "metadata": {
    "deletable": false,
    "nbgrader": {
     "checksum": "4ebd624ef655a050fca3adbe8fe15dbf",
     "grade": false,
     "grade_id": "drop_extra_cols",
     "locked": false,
     "schema_version": 1,
     "solution": true
    }
   },
   "outputs": [],
   "source": [
    "# 1c) Drop the 'first_name' and 'last_name' columns from the df_income data frame.\n",
    "\n",
    "# YOUR CODE HERE\n",
    "df_income = df_income.drop(['first_name', 'last_name'], axis=1)"
   ]
  },
  {
   "cell_type": "code",
   "execution_count": 7,
   "metadata": {
    "deletable": false,
    "editable": false,
    "nbgrader": {
     "checksum": "35e6f960fc75af2fb639db1c426bbf2f",
     "grade": true,
     "grade_id": "test_drop_ext_cols",
     "locked": true,
     "points": 0.25,
     "schema_version": 1,
     "solution": false
    }
   },
   "outputs": [],
   "source": [
    "# Tests for 1c\n",
    "\n",
    "assert 'first_name' not in df_income.columns\n",
    "assert 'last_name' not in df_income.columns"
   ]
  },
  {
   "cell_type": "code",
   "execution_count": 8,
   "metadata": {
    "deletable": false,
    "nbgrader": {
     "checksum": "50752e3350a9180c21c8d3792e758d46",
     "grade": false,
     "grade_id": "merge_dat",
     "locked": false,
     "schema_version": 1,
     "solution": true
    }
   },
   "outputs": [],
   "source": [
    "# 1d) Combine the two dataframes into one combined, new dataframe. Call it 'df'.\n",
    "#  Both dataframes should have a column called 'id' use this column to align the datasets (merge on 'id')\n",
    "#  Note: For this part, it doesn't in which order you merge the dataframes.\n",
    "\n",
    "# YOUR CODE HERE\n",
    "df = pd.merge(df_steps, df_income, on='id')"
   ]
  },
  {
   "cell_type": "code",
   "execution_count": 9,
   "metadata": {
    "deletable": false,
    "editable": false,
    "nbgrader": {
     "checksum": "bc936fd5636926ba13f3d9b56f58ed82",
     "grade": true,
     "grade_id": "test_merge_dat",
     "locked": true,
     "points": 0.5,
     "schema_version": 1,
     "solution": false
    }
   },
   "outputs": [],
   "source": [
    "# Tests for 1d\n",
    "\n",
    "assert isinstance(df, pd.DataFrame)\n",
    "assert set(df.columns) == set(['id', 'income', 'age', 'steps'])"
   ]
  },
  {
   "cell_type": "code",
   "execution_count": 10,
   "metadata": {
    "deletable": false,
    "nbgrader": {
     "checksum": "1f3afe70709abe2ec4fdcdb9a3938864",
     "grade": false,
     "grade_id": "reorder_cols",
     "locked": false,
     "schema_version": 1,
     "solution": true
    }
   },
   "outputs": [],
   "source": [
    "# 1e) Re-Order the Column ID's to be [id, age, steps, income]\n",
    "\n",
    "# YOUR CODE HERE\n",
    "df = df[['id', 'age', 'steps', 'income']]"
   ]
  },
  {
   "cell_type": "code",
   "execution_count": 11,
   "metadata": {
    "deletable": false,
    "editable": false,
    "nbgrader": {
     "checksum": "4efcf75ac0377e914a658ca68a320f98",
     "grade": true,
     "grade_id": "test_reorder_cols",
     "locked": true,
     "points": 0.25,
     "schema_version": 1,
     "solution": false
    }
   },
   "outputs": [],
   "source": [
    "# Tests for 1e\n",
    "\n",
    "assert list(df.columns) == ['id', 'age', 'steps', 'income']"
   ]
  },
  {
   "cell_type": "code",
   "execution_count": 12,
   "metadata": {
    "deletable": false,
    "nbgrader": {
     "checksum": "90dd513c05fc40417dc51f45f960c558",
     "grade": false,
     "grade_id": "cell-21fcd98a93bb7fa1",
     "locked": false,
     "schema_version": 1,
     "solution": true
    }
   },
   "outputs": [],
   "source": [
    "# 1f) Make two different copies of 'df'. \n",
    "# Call the first one 'df2', and the second one 'df3'.\n",
    "# Note: Simply writing 'df2 = df' and 'df3 = df' will NOT work!\n",
    "#   A quick google search reveals how to properly copy dataframes.\n",
    "\n",
    "# YOUR CODE HERE\n",
    "df2 = df.copy()\n",
    "df3 = df.copy()"
   ]
  },
  {
   "cell_type": "code",
   "execution_count": 13,
   "metadata": {
    "deletable": false,
    "editable": false,
    "nbgrader": {
     "checksum": "4464ed645ea34e2418beaaac2a4c21aa",
     "grade": true,
     "grade_id": "import",
     "locked": true,
     "points": 0.5,
     "schema_version": 1,
     "solution": false
    }
   },
   "outputs": [],
   "source": [
    "# Tests for 1f\n",
    "\n",
    "assert(df2 is not df)\n",
    "assert(df3 is not df)"
   ]
  },
  {
   "cell_type": "markdown",
   "metadata": {
    "deletable": false,
    "editable": false,
    "nbgrader": {
     "checksum": "3a77ad34f99df0613abc94662c4692af",
     "grade": false,
     "grade_id": "part2",
     "locked": true,
     "schema_version": 1,
     "solution": false
    }
   },
   "source": [
    "## Part 2 - Data Cleaning\n",
    "\n",
    "Before analysis, data must be cleaned of missing or unusable data. \n",
    "\n",
    "Now that the datasets are joined into a single dataframe, the next steps are to remove or replace any bad data before moving onto any analyses. "
   ]
  },
  {
   "cell_type": "code",
   "execution_count": 14,
   "metadata": {
    "deletable": false,
    "nbgrader": {
     "checksum": "496e20908b156bc4d51251fb9327508e",
     "grade": false,
     "grade_id": "check_n_nan",
     "locked": false,
     "schema_version": 1,
     "solution": true
    }
   },
   "outputs": [],
   "source": [
    "# 2a) First check how many missing data (NaNs) there are in the income data.\n",
    "#  Save this number into a variable called 'n_nan'\n",
    "\n",
    "# YOUR CODE HERE\n",
    "n_nan = df['income'].isnull().sum()\n",
    "#print(n_nan)\n",
    "#raise NotImplementedError()"
   ]
  },
  {
   "cell_type": "code",
   "execution_count": 15,
   "metadata": {
    "deletable": false,
    "editable": false,
    "nbgrader": {
     "checksum": "999527e58f2d367f39dde83c5272ad9c",
     "grade": true,
     "grade_id": "test_check_n_nan",
     "locked": true,
     "points": 0.25,
     "schema_version": 1,
     "solution": false
    }
   },
   "outputs": [],
   "source": [
    "# Tests for 2a\n",
    "\n",
    "assert(n_nan)\n"
   ]
  },
  {
   "cell_type": "code",
   "execution_count": 16,
   "metadata": {
    "deletable": false,
    "nbgrader": {
     "checksum": "a6b3912403049cfe61ee0cb5850f5ff3",
     "grade": false,
     "grade_id": "rm_nans",
     "locked": false,
     "schema_version": 1,
     "solution": true
    }
   },
   "outputs": [],
   "source": [
    "# 2b) Remove all rows from df that have missing data. \n",
    "#  In other words, remove all rows with NaN values.\n",
    "\n",
    "# YOUR CODE HERE\n",
    "df = df.dropna(axis=0,how='any')\n",
    "#print(df)\n",
    "#print(df['income'].isnull().sum())\n",
    "#raise NotImplementedError()"
   ]
  },
  {
   "cell_type": "code",
   "execution_count": 17,
   "metadata": {
    "deletable": false,
    "editable": false,
    "nbgrader": {
     "checksum": "de3add846e9c7a25c2f40fbc1670856e",
     "grade": true,
     "grade_id": "test_rm_nans",
     "locked": true,
     "points": 0.5,
     "schema_version": 1,
     "solution": false
    }
   },
   "outputs": [],
   "source": [
    "# Tests for 2b\n",
    "\n",
    "assert sum(np.isnan(df['income'])) == 0"
   ]
  },
  {
   "cell_type": "code",
   "execution_count": 18,
   "metadata": {
    "deletable": false,
    "nbgrader": {
     "checksum": "b1a2d47bb4cc7e0c218dd351c7963f1e",
     "grade": false,
     "grade_id": "cell-07562783e1097577",
     "locked": false,
     "schema_version": 1,
     "solution": true
    }
   },
   "outputs": [],
   "source": [
    "# 2c) Create a variable called `mean_income` which holds the average income in df\n",
    "\n",
    "# YOUR CODE HERE\n",
    "mean_income = df['income'].mean()\n",
    "#raise NotImplementedError()"
   ]
  },
  {
   "cell_type": "code",
   "execution_count": 19,
   "metadata": {
    "deletable": false,
    "editable": false,
    "nbgrader": {
     "checksum": "fd95829aef774f55402b630c17381cce",
     "grade": true,
     "grade_id": "cell-0087330817bb378a",
     "locked": true,
     "points": 0.25,
     "schema_version": 1,
     "solution": false
    }
   },
   "outputs": [],
   "source": [
    "# Tests for 2c\n",
    "\n",
    "assert mean_income\n"
   ]
  },
  {
   "cell_type": "code",
   "execution_count": 20,
   "metadata": {
    "deletable": false,
    "nbgrader": {
     "checksum": "2fd3412cdfef2f3398f5c3232a0e9a3c",
     "grade": false,
     "grade_id": "cell-ae9e4583c7334cef",
     "locked": false,
     "schema_version": 1,
     "solution": true
    }
   },
   "outputs": [],
   "source": [
    "# 2d) In df2, replace all missing values with `mean_income`\n",
    "\n",
    "# YOUR CODE HERE\n",
    "df2['income'].fillna((mean_income),inplace=True)\n",
    "#print(df2)\n",
    "#raise NotImplementedError()"
   ]
  },
  {
   "cell_type": "code",
   "execution_count": 21,
   "metadata": {
    "deletable": false,
    "editable": false,
    "nbgrader": {
     "checksum": "87dc61c584bcf9a4aad7639d2a2f9858",
     "grade": true,
     "grade_id": "cell-e6b939ab097a08ac",
     "locked": true,
     "points": 0.5,
     "schema_version": 1,
     "solution": false
    }
   },
   "outputs": [],
   "source": [
    "# Tests for 2d\n",
    "\n",
    "assert not df2['income'].hasnans\n"
   ]
  },
  {
   "cell_type": "markdown",
   "metadata": {
    "deletable": false,
    "editable": false,
    "nbgrader": {
     "checksum": "c5eca8313f7ab8cde305141f938acb03",
     "grade": false,
     "grade_id": "cell-d5a2ec0f6c9489c6",
     "locked": true,
     "schema_version": 1,
     "solution": false
    }
   },
   "source": [
    "### W1 - Missing Data\n",
    "\n",
    "You just used two different approaches for dealing with missing data: dropping the rows and replacing with the mean. \n",
    "\n",
    "For each approach, briefly describe below when you think it would be appropriate to use this approach. \n",
    "\n",
    "When is best to use one approach over the other?"
   ]
  },
  {
   "cell_type": "markdown",
   "metadata": {
    "collapsed": true,
    "deletable": false,
    "nbgrader": {
     "checksum": "a3d5328a171cf1d7bdaf14da9e5c44ed",
     "grade": true,
     "grade_id": "cell-50295605e63eb00b",
     "locked": false,
     "points": 0,
     "schema_version": 1,
     "solution": true
    }
   },
   "source": [
    "Dropping the rows is the better approach when we are more concerned with the income data and do not want to 'dilute' it with the mean income.\n",
    "Replacing with the mean is better when we are interested in other pieces of the data and want to be able to use them, even if it means adding in income data that is certainly incorrect, but might be close enough to be acceptable."
   ]
  },
  {
   "cell_type": "markdown",
   "metadata": {
    "deletable": false,
    "editable": false,
    "nbgrader": {
     "checksum": "99249fc32f73389090300fc93eee79a2",
     "grade": false,
     "grade_id": "cell-5d01b1034d49203e",
     "locked": true,
     "schema_version": 1,
     "solution": false
    }
   },
   "source": [
    "## Part 3: Data Visualization\n",
    "\n",
    "Here we will start exploring our data visually, using some plots. \n",
    "\n",
    "In particular, we will plot the distributions of each of our variables, in such a way as to let us get a sense of the data, and look for any problems. \n",
    "\n",
    "Pandas comes with some plotting capabilities. We will also be making histograms, which can be done with matplotlib.\n",
    "\n",
    "Here's an example of making histograms: http://matplotlib.org/1.2.1/examples/pylab_examples/histogram_demo.html\n",
    "\n",
    "This example has more than you need: \n",
    "- Titles, axis labels, etc are optional (but recommended)\n",
    "- You do no need to add a 'best fit' line.\n",
    "\n",
    "Notes:\n",
    "\n",
    "- Everywhere that we ask you to create a plot, make sure to leave the 'plt.gcf()' line at the end of the cell. \n",
    "    - This is used to get a figure handle in order to programmatically evaluate your plots.\n",
    "- For all your histograms, use 25 bins"
   ]
  },
  {
   "cell_type": "code",
   "execution_count": 22,
   "metadata": {
    "deletable": false,
    "nbgrader": {
     "checksum": "61da07cc1902a924d76b1ec94ffa7b43",
     "grade": false,
     "grade_id": "hist_age",
     "locked": false,
     "schema_version": 1,
     "solution": true
    }
   },
   "outputs": [
    {
     "data": {
      "image/png": "[encoded data removed]",
      "text/plain": [
       "<matplotlib.figure.Figure at 0x1135f8780>"
      ]
     },
     "metadata": {},
     "output_type": "display_data"
    }
   ],
   "source": [
    "# 3a) Plot a histogram of the age variable\n",
    "\n",
    "# YOUR CODE HERE\n",
    "plt.hist(df['age'], bins=25)\n",
    "#raise NotImplementedError()\n",
    "\n",
    "f1 = plt.gcf()"
   ]
  },
  {
   "cell_type": "code",
   "execution_count": 23,
   "metadata": {
    "deletable": false,
    "editable": false,
    "nbgrader": {
     "checksum": "86fd8234d03da288d7e8032d50ac59b1",
     "grade": true,
     "grade_id": "test_hist_age",
     "locked": true,
     "points": 0.25,
     "schema_version": 1,
     "solution": false
    }
   },
   "outputs": [],
   "source": [
    "# Tests for 3a\n",
    "\n",
    "assert f1.gca().has_data()"
   ]
  },
  {
   "cell_type": "code",
   "execution_count": 24,
   "metadata": {
    "deletable": false,
    "nbgrader": {
     "checksum": "c78710dba112aa8e3864bb75c104d9f0",
     "grade": false,
     "grade_id": "hist_steps",
     "locked": false,
     "schema_version": 1,
     "solution": true
    }
   },
   "outputs": [
    {
     "data": {
      "image/png": "[encoded data removed]",
      "text/plain": [
       "<matplotlib.figure.Figure at 0x11361b3c8>"
      ]
     },
     "metadata": {},
     "output_type": "display_data"
    }
   ],
   "source": [
    "# 3b) Plot a histogram of the steps variable\n",
    "\n",
    "# YOUR CODE HERE\n",
    "plt.hist(df['age'], bins=25)\n",
    "#raise NotImplementedError()\n",
    "\n",
    "f2 = plt.gcf()"
   ]
  },
  {
   "cell_type": "code",
   "execution_count": 25,
   "metadata": {
    "deletable": false,
    "editable": false,
    "nbgrader": {
     "checksum": "9a31a432cbac65bb2c536e1c9561843d",
     "grade": true,
     "grade_id": "test_hist_steps",
     "locked": true,
     "points": 0.25,
     "schema_version": 1,
     "solution": false
    }
   },
   "outputs": [],
   "source": [
    "# Tests for 3b\n",
    "\n",
    "assert f2.gca().has_data()"
   ]
  },
  {
   "cell_type": "code",
   "execution_count": 26,
   "metadata": {
    "deletable": false,
    "nbgrader": {
     "checksum": "b9cf798737d17f4a8f5d8c5bf040a747",
     "grade": false,
     "grade_id": "cell-3b187fca71faa424",
     "locked": false,
     "schema_version": 1,
     "solution": true
    }
   },
   "outputs": [
    {
     "data": {
      "image/png": "[encoded data removed]",
      "text/plain": [
       "<matplotlib.figure.Figure at 0x1137148d0>"
      ]
     },
     "metadata": {},
     "output_type": "display_data"
    }
   ],
   "source": [
    "# 3c) Plot a histogram of the income variable\n",
    "\n",
    "# YOUR CODE HERE\n",
    "plt.hist(df['income'], bins=25)\n",
    "#raise NotImplementedError()\n",
    "\n",
    "f3 = plt.gcf()"
   ]
  },
  {
   "cell_type": "code",
   "execution_count": 27,
   "metadata": {
    "deletable": false,
    "editable": false,
    "nbgrader": {
     "checksum": "7573f5f53750aff96be9405160002fcc",
     "grade": true,
     "grade_id": "cell-f9b252fbb7a92d40",
     "locked": true,
     "points": 0.25,
     "schema_version": 1,
     "solution": false
    }
   },
   "outputs": [],
   "source": [
    "# Tests for 3c\n",
    "\n",
    "assert f2.gca().has_data()"
   ]
  },
  {
   "cell_type": "code",
   "execution_count": 28,
   "metadata": {
    "deletable": false,
    "nbgrader": {
     "checksum": "ed82ea015620a93ba01e490d08caaf58",
     "grade": false,
     "grade_id": "cell-95bdb279f6c0f560",
     "locked": false,
     "schema_version": 1,
     "solution": true
    }
   },
   "outputs": [
    {
     "data": {
      "image/png": "[encoded data removed]",
      "text/plain": [
       "<matplotlib.figure.Figure at 0x1137bfc50>"
      ]
     },
     "metadata": {},
     "output_type": "display_data"
    }
   ],
   "source": [
    "# 3d) Plot the data using pandas scatter_matrix, saving it to output variable name 'fd'.\n",
    "#  Only plot the 'age', 'steps', and 'income' variables.\n",
    "\n",
    "# YOUR CODE HERE\n",
    "fd = pd.plotting.scatter_matrix(df[['age', 'steps', 'income']])\n",
    "#raise NotImplementedError()"
   ]
  },
  {
   "cell_type": "code",
   "execution_count": 29,
   "metadata": {
    "deletable": false,
    "editable": false,
    "nbgrader": {
     "checksum": "3ec43e039b8e93d82996c0eae664f1e5",
     "grade": true,
     "grade_id": "cell-c5520747d92f0e26",
     "locked": true,
     "points": 0.25,
     "schema_version": 1,
     "solution": false
    }
   },
   "outputs": [],
   "source": [
    "# Tests for 3d\n",
    "\n",
    "assert len(fd[0]) == 3\n",
    "assert np.all(ax.has_data() for ax in fd[0])"
   ]
  },
  {
   "cell_type": "markdown",
   "metadata": {
    "deletable": false,
    "editable": false,
    "nbgrader": {
     "checksum": "b796dc11b89e39247d769fc98d789b03",
     "grade": false,
     "grade_id": "notice_2",
     "locked": true,
     "schema_version": 1,
     "solution": false
    }
   },
   "source": [
    "### W2 - What do you notice about data now that you've visualized it?\n",
    "\n",
    "For each of 'steps', 'income' and 'age', write a quick comment on each of anything that you notice from the above visualizations, that may need to be addressed before moving onto data analysis. \n",
    "\n",
    "In particular:\n",
    "- Are there outliers or bad values we need to fix? \n",
    "- Might we want to transform any of the distributions?"
   ]
  },
  {
   "cell_type": "markdown",
   "metadata": {
    "deletable": false,
    "nbgrader": {
     "checksum": "16f2ab17d6df8fbde51523dc36b498a1",
     "grade": true,
     "grade_id": "notice_steps",
     "locked": false,
     "points": 0,
     "schema_version": 1,
     "solution": true
    }
   },
   "source": [
    "Everything that seems off comes from the income data. There are a number of outliers when modelling it vs age and steps, but these could be real values from people who are much wealthier than the average. What's weired is that income is clustered to the left on the x-axis and to the bottom on the y-axis, yet when modelling income v income the histogram looks like an exponential decay function instead of a normal distribution, as the age v age and steps v steps histograms do."
   ]
  },
  {
   "cell_type": "markdown",
   "metadata": {},
   "source": [
    "## Part 4: Data Pre-Processing\n",
    "\n",
    "In the above sections, we did some basic data cleaning, and visualization. \n",
    "\n",
    "In practice, these two components of an analysis pipeline are often combined into an iterative approach, going back and forth between looking at the data, checking for issues, and then cleaning the data. \n",
    "\n",
    "In this next section we will continue with an iterative procedure of data cleaning and visualization, addressing some issues that we can start to see when visualizing the data."
   ]
  },
  {
   "cell_type": "code",
   "execution_count": 32,
   "metadata": {
    "deletable": false,
    "nbgrader": {
     "checksum": "27c627f59c977e767a761e12b87e64a8",
     "grade": false,
     "grade_id": "check_n_neg",
     "locked": false,
     "schema_version": 1,
     "solution": true
    }
   },
   "outputs": [],
   "source": [
    "# 4a) Dealing with an impossible value in 'steps'. \n",
    "#  Check how many -1 values there are in steps. \n",
    "#  Save the number into a variable called 'n_neg'\n",
    "\n",
    "# YOUR CODE HERE\n",
    "n_neg = sum(df['steps'] == -1)\n",
    "#raise NotImplementedError()"
   ]
  },
  {
   "cell_type": "code",
   "execution_count": 33,
   "metadata": {
    "deletable": false,
    "editable": false,
    "nbgrader": {
     "checksum": "a4a8ac742be9a73444a8f11c2f77431e",
     "grade": true,
     "grade_id": "test_check_n_neg",
     "locked": true,
     "points": 0.25,
     "schema_version": 1,
     "solution": false
    }
   },
   "outputs": [],
   "source": [
    "# Tests for 4a\n",
    "\n",
    "assert(n_neg)\n"
   ]
  },
  {
   "cell_type": "code",
   "execution_count": 38,
   "metadata": {
    "deletable": false,
    "nbgrader": {
     "checksum": "3ebe1199304210bff7f7bd20d0674593",
     "grade": false,
     "grade_id": "rm_neg",
     "locked": false,
     "schema_version": 1,
     "solution": true
    }
   },
   "outputs": [],
   "source": [
    "# 4b) Remove all rows where steps is equal to -1\n",
    "\n",
    "df = df[df['steps'] != -1]\n",
    "\n",
    "# YOUR CODE HERE\n",
    "#raise NotImplementedError()"
   ]
  },
  {
   "cell_type": "code",
   "execution_count": 39,
   "metadata": {
    "deletable": false,
    "editable": false,
    "nbgrader": {
     "checksum": "5a324aaa824ce52bb6568bd4e791680a",
     "grade": true,
     "grade_id": "test_rm_neg",
     "locked": true,
     "points": 0.25,
     "schema_version": 1,
     "solution": false
    }
   },
   "outputs": [],
   "source": [
    "# Tests for 4b\n",
    "\n",
    "assert sum(df['steps'] == -1) == 0"
   ]
  },
  {
   "cell_type": "markdown",
   "metadata": {
    "deletable": false,
    "editable": false,
    "nbgrader": {
     "checksum": "fda646cdf78099fa007173fd5a3bd529",
     "grade": false,
     "grade_id": "cell-bba8828415fce1e0",
     "locked": true,
     "schema_version": 1,
     "solution": false
    }
   },
   "source": [
    "### W3 - Transforming Distributions\n",
    "\n",
    "Once thing you might have noticed is that the income is not normally distributed. \n",
    "\n",
    "In the next steps, we will address this by log transforming the income data. First though, we will have to deal with any income values that are 0. Note that these values are not impossible values, but may, for example, reflect people who are unemployed. \n",
    "\n",
    "Why are are we log-transforming the data, and how does that help us? Why do we have to do something special with 0's?\n",
    "\n",
    "Hint: calculate log10 of zero, and see what the answer is. "
   ]
  },
  {
   "cell_type": "markdown",
   "metadata": {
    "deletable": false,
    "nbgrader": {
     "checksum": "2b6169cc5a06011d907a7e447026134b",
     "grade": true,
     "grade_id": "cell-132cc0868f89e090",
     "locked": false,
     "points": 0,
     "schema_version": 1,
     "solution": true
    }
   },
   "source": [
    "By log-transforming the data we essentially spread out the values so they are easier to interpret, and convert the presented distribution to a normal distribution that is much more useful (e.g. by looking at standard deviations, z-values etc).\n",
    "We have to modify the zero values because calculating math.log(10, 0) results in a ValueError: math domain error, and we can't have these kind of errors when performing data analysis."
   ]
  },
  {
   "cell_type": "code",
   "execution_count": 45,
   "metadata": {
    "deletable": false,
    "nbgrader": {
     "checksum": "16eabb2a0fde0fa013154a366d0481ed",
     "grade": false,
     "grade_id": "recoded_zero",
     "locked": false,
     "schema_version": 1,
     "solution": true
    }
   },
   "outputs": [],
   "source": [
    "# 4c) For all rows in which income is equal to zero, recode income to be equal to 1\n",
    "df[df['income'] == 0] = 1\n",
    "# YOUR CODE HERE\n",
    "#raise NotImplementedError()"
   ]
  },
  {
   "cell_type": "code",
   "execution_count": 46,
   "metadata": {
    "deletable": false,
    "editable": false,
    "nbgrader": {
     "checksum": "9891102624cee9d33f1ab288195738ec",
     "grade": true,
     "grade_id": "test_recoded_zero",
     "locked": true,
     "points": 0.25,
     "schema_version": 1,
     "solution": false
    }
   },
   "outputs": [],
   "source": [
    "# Tests for 4c\n",
    "\n",
    "assert sum(df['income'] == 0.) == 0"
   ]
  },
  {
   "cell_type": "code",
   "execution_count": 59,
   "metadata": {
    "deletable": false,
    "nbgrader": {
     "checksum": "46cf5b6675abf8cd7d7ed1160bcf0ea4",
     "grade": false,
     "grade_id": "log",
     "locked": false,
     "schema_version": 1,
     "solution": true
    }
   },
   "outputs": [
    {
     "name": "stdout",
     "output_type": "stream",
     "text": [
      "         id  age  steps  income\n",
      "0       125   41  17545     NaN\n",
      "1       170   38  27851     NaN\n",
      "2       193   49  16507     NaN\n",
      "3       291   37  24488     NaN\n",
      "4       315   46  10468     NaN\n",
      "5       412   44  16895     NaN\n",
      "6       480   32  15574     NaN\n",
      "7       689   49  18892     NaN\n",
      "8       704   67  14127     NaN\n",
      "9       967   53  24145     NaN\n",
      "10      992   72   8829     NaN\n",
      "11     1095   50  15676     NaN\n",
      "12     1252   55  14602     NaN\n",
      "13     1335   50   9444     NaN\n",
      "15        1    1      1     NaN\n",
      "16     1545   36  18504     NaN\n",
      "17     1567   68  19049     NaN\n",
      "18     1666   59  18463     NaN\n",
      "19     1797   56  17193     NaN\n",
      "20     1849   73  10113     NaN\n",
      "21     2000   56  15299     NaN\n",
      "22     2349   56  23411     NaN\n",
      "23        1    1      1     NaN\n",
      "24     2481   59  13144     NaN\n",
      "25     2521   55  13061     NaN\n",
      "26     2588   80   8746     NaN\n",
      "27     2652   51  14076     NaN\n",
      "28     2754   51  14893     NaN\n",
      "29     2762   56  17658     NaN\n",
      "30     2785   48  19551     NaN\n",
      "...     ...  ...    ...     ...\n",
      "1499  98422   30  21031     NaN\n",
      "1500      1    1      1     NaN\n",
      "1501      1    1      1     NaN\n",
      "1502  98599   48  14382     NaN\n",
      "1503  98683   63  15848     NaN\n",
      "1504  98705   49  14070     NaN\n",
      "1505  98735   77  21519     NaN\n",
      "1506  98873   45  18349     NaN\n",
      "1507  98898   43  13283     NaN\n",
      "1508  98918   53  12337     NaN\n",
      "1509  98963   55  11652     NaN\n",
      "1510  98992   44  19808     NaN\n",
      "1511  99004   36  16833     NaN\n",
      "1512  99028   67  15044     NaN\n",
      "1513  99033   52  18777     NaN\n",
      "1514  99133   36  19516     NaN\n",
      "1515  99190   51  14728     NaN\n",
      "1516  99262   50  12922     NaN\n",
      "1518  99393   27  20049     NaN\n",
      "1519  99403   62  15307     NaN\n",
      "1520  99454   28  18636     NaN\n",
      "1521  99466   52  15134     NaN\n",
      "1522  99471   53  19112     NaN\n",
      "1523  99526   52   9837     NaN\n",
      "1524  99585   30  19042     NaN\n",
      "1525  99649   44  18130     NaN\n",
      "1526  99742   38  12942     NaN\n",
      "1527  99757   31  20126     NaN\n",
      "1528  99813   63  10941     NaN\n",
      "1529  99946   29  18726     NaN\n",
      "\n",
      "[1472 rows x 4 columns]\n"
     ]
    }
   ],
   "source": [
    "# 4d) Transform income using a log10 transform\n",
    "\n",
    "df['income'] = df['income'].apply(lambda x: np.log10(x))\n",
    "\n",
    "print(df)\n",
    "\n",
    "# YOUR CODE HERE\n",
    "#raise NotImplementedError()"
   ]
  },
  {
   "cell_type": "code",
   "execution_count": 55,
   "metadata": {
    "deletable": false,
    "editable": false,
    "nbgrader": {
     "checksum": "a9315e0b509dabc0da8b61e7e911d598",
     "grade": true,
     "grade_id": "test_log",
     "locked": true,
     "points": 0.25,
     "schema_version": 1,
     "solution": false
    }
   },
   "outputs": [
    {
     "ename": "AssertionError",
     "evalue": "",
     "output_type": "error",
     "traceback": [
      "\u001b[0;31m---------------------------------------------------------------------------\u001b[0m",
      "\u001b[0;31mAssertionError\u001b[0m                            Traceback (most recent call last)",
      "\u001b[0;32m<ipython-input-55-f9fae770c157>\u001b[0m in \u001b[0;36m<module>\u001b[0;34m()\u001b[0m\n\u001b[1;32m      1\u001b[0m \u001b[0;31m# Tests for 4d\u001b[0m\u001b[0;34m\u001b[0m\u001b[0;34m\u001b[0m\u001b[0m\n\u001b[1;32m      2\u001b[0m \u001b[0;34m\u001b[0m\u001b[0m\n\u001b[0;32m----> 3\u001b[0;31m \u001b[0;32massert\u001b[0m \u001b[0mnp\u001b[0m\u001b[0;34m.\u001b[0m\u001b[0misclose\u001b[0m\u001b[0;34m(\u001b[0m\u001b[0mmin\u001b[0m\u001b[0;34m(\u001b[0m\u001b[0mdf\u001b[0m\u001b[0;34m[\u001b[0m\u001b[0;34m'income'\u001b[0m\u001b[0;34m]\u001b[0m\u001b[0;34m)\u001b[0m\u001b[0;34m,\u001b[0m \u001b[0;36m0.0\u001b[0m\u001b[0;34m,\u001b[0m \u001b[0;36m0.05\u001b[0m\u001b[0;34m)\u001b[0m\u001b[0;34m\u001b[0m\u001b[0m\n\u001b[0m\u001b[1;32m      4\u001b[0m \u001b[0;32massert\u001b[0m \u001b[0mnp\u001b[0m\u001b[0;34m.\u001b[0m\u001b[0misclose\u001b[0m\u001b[0;34m(\u001b[0m\u001b[0mmax\u001b[0m\u001b[0;34m(\u001b[0m\u001b[0mdf\u001b[0m\u001b[0;34m[\u001b[0m\u001b[0;34m'income'\u001b[0m\u001b[0;34m]\u001b[0m\u001b[0;34m)\u001b[0m\u001b[0;34m,\u001b[0m \u001b[0;36m5.62\u001b[0m\u001b[0;34m,\u001b[0m \u001b[0;36m0.05\u001b[0m\u001b[0;34m)\u001b[0m\u001b[0;34m\u001b[0m\u001b[0m\n",
      "\u001b[0;31mAssertionError\u001b[0m: "
     ]
    }
   ],
   "source": [
    "# Tests for 4d\n",
    "\n",
    "assert np.isclose(min(df['income']), 0.0, 0.05)\n",
    "assert np.isclose(max(df['income']), 5.62, 0.05)"
   ]
  },
  {
   "cell_type": "code",
   "execution_count": null,
   "metadata": {
    "deletable": false,
    "nbgrader": {
     "checksum": "7d1bc4ed03245e283891c13704a14e4e",
     "grade": false,
     "grade_id": "replot_log",
     "locked": false,
     "schema_version": 1,
     "solution": true
    }
   },
   "outputs": [],
   "source": [
    "# 4e) Replot the histogram for income data after the data transformation\n",
    "\n",
    "# YOUR CODE HERE\n",
    "raise NotImplementedError()\n",
    "\n",
    "f4 = plt.gcf()"
   ]
  },
  {
   "cell_type": "code",
   "execution_count": null,
   "metadata": {
    "deletable": false,
    "editable": false,
    "nbgrader": {
     "checksum": "ab4d439fa76e54698aac7c6c2d1d8eb4",
     "grade": true,
     "grade_id": "test_replot_hist",
     "locked": true,
     "points": 0.25,
     "schema_version": 1,
     "solution": false
    }
   },
   "outputs": [],
   "source": [
    "# Tests for 4e\n",
    "\n",
    "assert f4.gca().has_data()"
   ]
  },
  {
   "cell_type": "code",
   "execution_count": null,
   "metadata": {
    "deletable": false,
    "nbgrader": {
     "checksum": "2937da3ac71c5ac087aba4b81365ece8",
     "grade": false,
     "grade_id": "rm_young",
     "locked": false,
     "schema_version": 1,
     "solution": true
    }
   },
   "outputs": [],
   "source": [
    "# 4f) We might also have certain regulations or restrictions that we need to follow about the data. \n",
    "# Here, we will only analyze adults. Remove all rows where age is less than 18.\n",
    "\n",
    "# YOUR CODE HERE\n",
    "raise NotImplementedError()"
   ]
  },
  {
   "cell_type": "code",
   "execution_count": null,
   "metadata": {
    "deletable": false,
    "editable": false,
    "nbgrader": {
     "checksum": "c7a17ec437ee3b2ee0d1f49e2cff9a00",
     "grade": true,
     "grade_id": "test_rm_young",
     "locked": true,
     "points": 0.25,
     "schema_version": 1,
     "solution": false
    }
   },
   "outputs": [],
   "source": [
    "# Tests for 4f\n",
    "\n",
    "assert min(df['age']) >= 18"
   ]
  },
  {
   "cell_type": "markdown",
   "metadata": {
    "deletable": false,
    "editable": false,
    "nbgrader": {
     "checksum": "0b4877a529116ab66e7c74023312e008",
     "grade": false,
     "grade_id": "cell-59538e474c852d99",
     "locked": true,
     "schema_version": 1,
     "solution": false
    }
   },
   "source": [
    "## Part 5 Outliers\n",
    "\n",
    "So far, we have dealt with the most clearly wrong or impossible data values. \n",
    "\n",
    "We might still might need to deal with more subtle outliers: values that seem abnormally high or low. These values may seem suspicious, and they may skew our analyses. \n",
    "\n",
    "In this step, we are going to deal with outlier values by removing all rows in which the data for the steps column exceeds +/- 3 standard deviations above or below the mean.\n",
    "\n",
    "Note that when you perform this kind of outlier removal can have large impacts. For example, the procedure we take here might give quite different results if we did it before removing the -1 values in steps. "
   ]
  },
  {
   "cell_type": "code",
   "execution_count": null,
   "metadata": {
    "deletable": false,
    "nbgrader": {
     "checksum": "5becc3d0a09891e2d275e5c029a9b05d",
     "grade": false,
     "grade_id": "rm_outliers_setup",
     "locked": false,
     "schema_version": 1,
     "solution": true
    }
   },
   "outputs": [],
   "source": [
    "# 5a) For the steps data: \n",
    "# - Calculate what three times the standard deviation is, and save it to variables called 'std3'. \n",
    "#    Note: you must use pandas to calculate the standard devation!\n",
    "#    Pandas & Numpy use slightly different conventions for std, so using numpy here will get a different value\n",
    "# - Using 'std3', create new variables, called std_max' and 'std_min'.\n",
    "#    These will store our cut-off values: 3 std above and below the mean respectively. \n",
    "\n",
    "# YOUR CODE HERE\n",
    "raise NotImplementedError()"
   ]
  },
  {
   "cell_type": "code",
   "execution_count": null,
   "metadata": {
    "deletable": false,
    "editable": false,
    "nbgrader": {
     "checksum": "5d655f1bea1a96b4abf8a325cc2571a5",
     "grade": true,
     "grade_id": "test_rm_outliers_setup",
     "locked": true,
     "points": 0.5,
     "schema_version": 1,
     "solution": false
    }
   },
   "outputs": [],
   "source": [
    "# Tests for 5a\n",
    "\n",
    "assert(std3)\n",
    "assert(std_min)\n",
    "assert(std_max)\n"
   ]
  },
  {
   "cell_type": "code",
   "execution_count": null,
   "metadata": {
    "deletable": false,
    "nbgrader": {
     "checksum": "a5880f6248c32c4316eb7a6d4f2d245f",
     "grade": false,
     "grade_id": "rm_outliers",
     "locked": false,
     "schema_version": 1,
     "solution": true
    }
   },
   "outputs": [],
   "source": [
    "# 5b) Now use these values to remove any rows with steps data above or below these thresholds\n",
    "\n",
    "# YOUR CODE HERE\n",
    "raise NotImplementedError()"
   ]
  },
  {
   "cell_type": "code",
   "execution_count": null,
   "metadata": {
    "deletable": false,
    "editable": false,
    "nbgrader": {
     "checksum": "c8ab28f862c23bd24586fe9715779e6e",
     "grade": true,
     "grade_id": "tests_rm_outliers",
     "locked": true,
     "points": 0.5,
     "schema_version": 1,
     "solution": false
    }
   },
   "outputs": [],
   "source": [
    "# Tests for 5b\n",
    "\n",
    "assert np.all(df['steps'])\n"
   ]
  },
  {
   "cell_type": "code",
   "execution_count": null,
   "metadata": {
    "deletable": false,
    "editable": false,
    "nbgrader": {
     "checksum": "7cb5f566708426b0d522f0b3c3131cd5",
     "grade": false,
     "grade_id": "check_data_shape",
     "locked": true,
     "schema_version": 1,
     "solution": false
    }
   },
   "outputs": [],
   "source": [
    "# CHECK IN\n",
    "# Check that the following test passes - if it fails, you have the wrong amount of data left. \n",
    "#  If so, go back and try to fix your cleaning steps, else your analysis answers will be wrong.\n",
    "assert df.shape == (1463, 4)"
   ]
  },
  {
   "cell_type": "markdown",
   "metadata": {
    "deletable": false,
    "editable": false,
    "nbgrader": {
     "checksum": "59326f7d10abb0b7bd9411d294e5ce35",
     "grade": false,
     "grade_id": "part3",
     "locked": true,
     "schema_version": 1,
     "solution": false
    }
   },
   "source": [
    "## Part 6 - Basic Analyses\n",
    "\n",
    "Now that we have wrangled and cleaned our data, we can start doing some simple analyses. \n",
    "\n",
    "Here we will explore some basic descriptive summaries of our data, look into the inter-relations (correlations) between variables, and ask some simple questions about potentially interesting subsets of our data. "
   ]
  },
  {
   "cell_type": "code",
   "execution_count": null,
   "metadata": {
    "deletable": false,
    "nbgrader": {
     "checksum": "bdd44bc4f00ce8bdd94afb77afdccb27",
     "grade": false,
     "grade_id": "cell-ae86332aaa14d006",
     "locked": false,
     "schema_version": 1,
     "solution": true
    }
   },
   "outputs": [],
   "source": [
    "# 6a) Descriptive summary\n",
    "# Use the 'describe' pandas method to check a descriptive summary of the data\n",
    "#   Save the dataframe generated by describe to a new variable called 'desc'\n",
    "\n",
    "# YOUR CODE HERE\n",
    "raise NotImplementedError()"
   ]
  },
  {
   "cell_type": "code",
   "execution_count": null,
   "metadata": {
    "deletable": false,
    "editable": false,
    "nbgrader": {
     "checksum": "501154fbaf2902ce9a791be0ff3a9a51",
     "grade": true,
     "grade_id": "cell-ff715fe5f2413f68",
     "locked": true,
     "points": 0.5,
     "schema_version": 1,
     "solution": false
    }
   },
   "outputs": [],
   "source": [
    "# Tests for 6a\n",
    "\n",
    "assert isinstance(desc, pd.DataFrame)"
   ]
  },
  {
   "cell_type": "code",
   "execution_count": null,
   "metadata": {
    "deletable": false,
    "nbgrader": {
     "checksum": "c54eca150a955c5553be5d8837d2a01d",
     "grade": false,
     "grade_id": "calc_corrs",
     "locked": false,
     "schema_version": 1,
     "solution": true
    }
   },
   "outputs": [],
   "source": [
    "# 6b) Calculate the pairwise correlations between all variables. \n",
    "#  Notes: do this with a pandas method. Keep all columns (including ID).\n",
    "#  Assign the result (which should be a dataframe) to a variable called 'corrs'.\n",
    "\n",
    "# YOUR CODE HERE\n",
    "raise NotImplementedError()"
   ]
  },
  {
   "cell_type": "code",
   "execution_count": null,
   "metadata": {
    "deletable": false,
    "editable": false,
    "nbgrader": {
     "checksum": "b83d98e4f612904a878fdb62f75789f8",
     "grade": true,
     "grade_id": "test_calc_corrs",
     "locked": true,
     "points": 0.25,
     "schema_version": 1,
     "solution": false
    }
   },
   "outputs": [],
   "source": [
    "# Tests for 6b\n",
    "\n",
    "assert isinstance(corrs, pd.DataFrame)\n",
    "assert corrs.shape == (4, 4)"
   ]
  },
  {
   "cell_type": "code",
   "execution_count": null,
   "metadata": {
    "deletable": false,
    "nbgrader": {
     "checksum": "cbf48d2d84052c46ede78306be18a703",
     "grade": false,
     "grade_id": "cell-0beee51a9a82e017",
     "locked": false,
     "schema_version": 1,
     "solution": true
    }
   },
   "outputs": [],
   "source": [
    "# 6c) Checking correlations\n",
    "# Answer the following questions by setting to answer variable to 'age', 'steps', or 'income'\n",
    "# Which variable is most correlated with age? Set the answer in a variable called 'age_corr'. \n",
    "# Which variable is most correlated with income? Set the answer in a variable called 'inc_corr'. \n",
    "\n",
    "# YOUR CODE HERE\n",
    "raise NotImplementedError()"
   ]
  },
  {
   "cell_type": "code",
   "execution_count": null,
   "metadata": {
    "deletable": false,
    "editable": false,
    "nbgrader": {
     "checksum": "9225dd8adb831a36a660b2e006ca42ea",
     "grade": true,
     "grade_id": "cell-d720528b12bb00be",
     "locked": true,
     "points": 0.25,
     "schema_version": 1,
     "solution": false
    }
   },
   "outputs": [],
   "source": [
    "# Tests for 6c\n",
    "\n",
    "assert age_corr\n",
    "assert inc_corr\n"
   ]
  },
  {
   "cell_type": "code",
   "execution_count": null,
   "metadata": {
    "deletable": false,
    "nbgrader": {
     "checksum": "cba4dafd40ce3185b0b3815b3fbd1faf",
     "grade": false,
     "grade_id": "cell-0cd6f99f2dbdb767",
     "locked": false,
     "schema_version": 1,
     "solution": true
    }
   },
   "outputs": [],
   "source": [
    "# 6d) How many steps would you have to walk to be in the top 10% of walkers\n",
    "#  Save you answer as a variable called 'top_walker'\n",
    "#  Hint: check out the 'quantile' method.\n",
    "\n",
    "# YOUR CODE HERE\n",
    "raise NotImplementedError()"
   ]
  },
  {
   "cell_type": "code",
   "execution_count": null,
   "metadata": {
    "deletable": false,
    "editable": false,
    "nbgrader": {
     "checksum": "b3a55e0ea665079c4a61ef741950c14e",
     "grade": true,
     "grade_id": "cell-cfed40af74908146",
     "locked": true,
     "points": 0.25,
     "schema_version": 1,
     "solution": false
    }
   },
   "outputs": [],
   "source": [
    "# Tests for 6d\n",
    "\n",
    "assert top_walker\n"
   ]
  },
  {
   "cell_type": "code",
   "execution_count": null,
   "metadata": {
    "deletable": false,
    "nbgrader": {
     "checksum": "b0af8f4eb7466c9f08f5817891e4ebfa",
     "grade": false,
     "grade_id": "cell-02b8f7a3ac9705f0",
     "locked": false,
     "schema_version": 1,
     "solution": true
    }
   },
   "outputs": [],
   "source": [
    "# 6e) What is the average income for people over the age of 45?\n",
    "# Save your response in a variable called 'old_income'.\n",
    "# Note: for this response, keep the answer as the logged value (do no 'un-log' the answer).\n",
    "\n",
    "# YOUR CODE HERE\n",
    "raise NotImplementedError()"
   ]
  },
  {
   "cell_type": "code",
   "execution_count": null,
   "metadata": {
    "deletable": false,
    "editable": false,
    "nbgrader": {
     "checksum": "b7d8ea9f6eca0c17bf70a7ece086ed59",
     "grade": true,
     "grade_id": "cell-332be768960bcc82",
     "locked": true,
     "points": 0.25,
     "schema_version": 1,
     "solution": false
    }
   },
   "outputs": [],
   "source": [
    "# Tests for 6e\n",
    "assert old_income\n"
   ]
  },
  {
   "cell_type": "markdown",
   "metadata": {
    "deletable": false,
    "editable": false,
    "nbgrader": {
     "checksum": "31b2be42435c7206ae0f5bd430498a73",
     "grade": false,
     "grade_id": "part4",
     "locked": true,
     "schema_version": 1,
     "solution": false
    }
   },
   "source": [
    "# Part 7 - Predictions\n",
    "\n",
    "A frequent goal of data analysis is to understand so that we can make predictions about future or unseen data points. \n",
    "\n",
    "Here we will explore some basic predictions, looking into whether we might be able to predict income from our other variables.\n",
    "\n",
    "Notes:\n",
    "- Use the polyfit function from numpy, in the way that we did in 'SectionMaterials/02-DataAnalysis\n",
    "- The predictions for income should be in dollars (so you'll have to 'un-log' the prediction)"
   ]
  },
  {
   "cell_type": "code",
   "execution_count": null,
   "metadata": {
    "deletable": false,
    "nbgrader": {
     "checksum": "54471a39991fcc3463ae1ceface30fb6",
     "grade": false,
     "grade_id": "model_1",
     "locked": false,
     "schema_version": 1,
     "solution": true
    }
   },
   "outputs": [],
   "source": [
    "# 7a) Use polyfit to fit a 1-degree linear model, predicting income from age.\n",
    "#  Call the output parameters 'a1' and 'b1'\n",
    "\n",
    "# YOUR CODE HERE\n",
    "raise NotImplementedError()"
   ]
  },
  {
   "cell_type": "code",
   "execution_count": null,
   "metadata": {
    "deletable": false,
    "editable": false,
    "nbgrader": {
     "checksum": "d215d28e8f4cfeeaf8d4288d24589aa7",
     "grade": true,
     "grade_id": "test_model_1",
     "locked": true,
     "points": 0.5,
     "schema_version": 1,
     "solution": false
    }
   },
   "outputs": [],
   "source": [
    "# Tests for 7a\n",
    "\n",
    "assert(a1)\n",
    "assert(b1)\n"
   ]
  },
  {
   "cell_type": "code",
   "execution_count": null,
   "metadata": {
    "deletable": false,
    "nbgrader": {
     "checksum": "5496018bb82e976d164f56e1bad34555",
     "grade": false,
     "grade_id": "pred_1",
     "locked": false,
     "schema_version": 1,
     "solution": true
    }
   },
   "outputs": [],
   "source": [
    "# 7b) Use the model parameters from 4a to predict the income of a 75 year old. \n",
    "#  Call your prediction 'pred1'.\n",
    "#  Note: Convert the prediction to be in real dollars (not log dollars)\n",
    "\n",
    "# YOUR CODE HERE\n",
    "raise NotImplementedError()"
   ]
  },
  {
   "cell_type": "code",
   "execution_count": null,
   "metadata": {
    "deletable": false,
    "editable": false,
    "nbgrader": {
     "checksum": "e77b7c17067b51c1827efad5b35340e5",
     "grade": true,
     "grade_id": "test_pred_1",
     "locked": true,
     "points": 0.5,
     "schema_version": 1,
     "solution": false
    }
   },
   "outputs": [],
   "source": [
    "# Tests for 7b\n",
    "\n",
    "assert(pred1)\n"
   ]
  },
  {
   "cell_type": "code",
   "execution_count": null,
   "metadata": {
    "deletable": false,
    "nbgrader": {
     "checksum": "6d76ebeae62a6a73f02fa0553a7b60d6",
     "grade": false,
     "grade_id": "model_2",
     "locked": false,
     "schema_version": 1,
     "solution": true
    }
   },
   "outputs": [],
   "source": [
    "# 7c) Use polyfit to fit a 1-degree linear model, predicting income from steps. \n",
    "#  Call the output parameters 'a2' and 'b2'\n",
    "\n",
    "# YOUR CODE HERE\n",
    "raise NotImplementedError()"
   ]
  },
  {
   "cell_type": "code",
   "execution_count": null,
   "metadata": {
    "deletable": false,
    "editable": false,
    "nbgrader": {
     "checksum": "dc109274304c6d666f9e815ac16b040c",
     "grade": true,
     "grade_id": "test_model_2",
     "locked": true,
     "points": 0.25,
     "schema_version": 1,
     "solution": false
    }
   },
   "outputs": [],
   "source": [
    "# Tests for 7c\n",
    "\n",
    "assert(a2)\n",
    "assert(b2)\n"
   ]
  },
  {
   "cell_type": "code",
   "execution_count": null,
   "metadata": {
    "deletable": false,
    "nbgrader": {
     "checksum": "f02dd471b219b564897cca2c81cc8a6e",
     "grade": false,
     "grade_id": "pred_2",
     "locked": false,
     "schema_version": 1,
     "solution": true
    }
   },
   "outputs": [],
   "source": [
    "# 7d) Predict the income of someone who took 20,000 steps. Call your prediction 'pred2'.\n",
    "#  Note: Convert the prediction to be in real dollars (not log dollars)\n",
    "\n",
    "# YOUR CODE HERE\n",
    "raise NotImplementedError()"
   ]
  },
  {
   "cell_type": "code",
   "execution_count": null,
   "metadata": {
    "deletable": false,
    "editable": false,
    "nbgrader": {
     "checksum": "9c5d08a1bcf70a550c83f686f901750d",
     "grade": true,
     "grade_id": "test_pred_2",
     "locked": true,
     "points": 0.25,
     "schema_version": 1,
     "solution": false
    }
   },
   "outputs": [],
   "source": [
    "# Test for 7d\n",
    "\n",
    "assert(pred2)\n"
   ]
  },
  {
   "cell_type": "code",
   "execution_count": null,
   "metadata": {
    "deletable": false,
    "nbgrader": {
     "checksum": "377c203ed35c26d32019a7c8f77c65fc",
     "grade": false,
     "grade_id": "better_model",
     "locked": false,
     "schema_version": 1,
     "solution": true
    }
   },
   "outputs": [],
   "source": [
    "# 7e) Based on your analysis in Part 3, which model do you think is more likely to have made a good prediction?\n",
    "#  Create a variable called 'better_model', and set it equal to 'age' or 'steps', whichever your answer is.\n",
    "\n",
    "# YOUR CODE HERE\n",
    "raise NotImplementedError()"
   ]
  },
  {
   "cell_type": "code",
   "execution_count": null,
   "metadata": {
    "deletable": false,
    "editable": false,
    "nbgrader": {
     "checksum": "bb0b30c54aca6ddf696fe66d2e054b57",
     "grade": true,
     "grade_id": "test_better_model",
     "locked": true,
     "points": 0.5,
     "schema_version": 1,
     "solution": false
    }
   },
   "outputs": [],
   "source": [
    "assert better_model\n"
   ]
  },
  {
   "cell_type": "markdown",
   "metadata": {
    "deletable": false,
    "editable": false,
    "nbgrader": {
     "checksum": "55fb1243d4664f6df685581415f0180e",
     "grade": false,
     "grade_id": "model_q",
     "locked": true,
     "schema_version": 1,
     "solution": false
    }
   },
   "source": [
    "### W4 - Why do you think (whichever model you answered) is better?"
   ]
  },
  {
   "cell_type": "markdown",
   "metadata": {
    "deletable": false,
    "nbgrader": {
     "checksum": "7b3180949c3c802092447f7c5c73860c",
     "grade": true,
     "grade_id": "model_ans",
     "locked": false,
     "points": 0,
     "schema_version": 1,
     "solution": true
    }
   },
   "source": [
    "YOUR ANSWER HERE"
   ]
  },
  {
   "cell_type": "markdown",
   "metadata": {
    "deletable": false,
    "editable": false,
    "nbgrader": {
     "checksum": "6b9a6fb659adcb9ce2e1b8820bf122f7",
     "grade": false,
     "grade_id": "cell-30036fe0c7f49998",
     "locked": true,
     "schema_version": 1,
     "solution": false
    }
   },
   "source": [
    "## 8  - Revisiting Missing Values\n",
    "\n",
    "Originally, we dealt with missing values by either dropping rows that contained them or by replacing them with the mean value of that column. \n",
    "\n",
    "Another approach one can take is to predict missing values, based on the rest of the available data."
   ]
  },
  {
   "cell_type": "code",
   "execution_count": null,
   "metadata": {
    "deletable": false,
    "nbgrader": {
     "checksum": "2ee572bdba7235e4ee036d06dc3414b8",
     "grade": false,
     "grade_id": "cell-ee32dbc3740c0f4c",
     "locked": false,
     "schema_version": 1,
     "solution": true
    }
   },
   "outputs": [],
   "source": [
    "# 8a) Create a function named `predict_income` that takes one parameter, `age`.\n",
    "#\n",
    "# This function will take in as input an individual's age, and return their predicted income.\n",
    "# This function should use your parameters `a1` and `b1` to do so.\n",
    "# Also, make sure that the function returns predictions in dollars (not logged values).\n",
    "# Note that this function should require no more than 2 or 3 lines.\n",
    "\n",
    "# YOUR CODE HERE\n",
    "raise NotImplementedError()"
   ]
  },
  {
   "cell_type": "code",
   "execution_count": null,
   "metadata": {
    "deletable": false,
    "editable": false,
    "nbgrader": {
     "checksum": "8ca4e45c4b27e1f669abdf05d23776c6",
     "grade": true,
     "grade_id": "cell-89038da0487305f5",
     "locked": true,
     "points": 0.5,
     "schema_version": 1,
     "solution": false
    }
   },
   "outputs": [],
   "source": [
    "# Tests for 8a\n",
    "\n",
    "assert callable(predict_income)\n"
   ]
  },
  {
   "cell_type": "code",
   "execution_count": null,
   "metadata": {
    "deletable": false,
    "editable": false,
    "nbgrader": {
     "checksum": "efb3604e373e78b4f10546bc92004f66",
     "grade": false,
     "grade_id": "cell-5d51cb2582870be3",
     "locked": true,
     "schema_version": 1,
     "solution": false
    }
   },
   "outputs": [],
   "source": [
    "# Using the function you defined, the following code will apply the function to the dataframe (this code provided)\n",
    "#  Now, the variable 'my_predictions' holds the predicted income for every row in df3. \n",
    "my_predictions = df3['age'].apply(predict_income)"
   ]
  },
  {
   "cell_type": "markdown",
   "metadata": {
    "deletable": false,
    "editable": false,
    "nbgrader": {
     "checksum": "d8f96db3201900f36cc5fad047e3e622",
     "grade": false,
     "grade_id": "cell-42a8d04119c90580",
     "locked": true,
     "schema_version": 1,
     "solution": false
    }
   },
   "source": [
    "### W5: Pandas .apply()\n",
    "\n",
    "The code that you see in the line above uses a pandas method called 'apply'. \n",
    "\n",
    "It is a very powerful method, and can be useful in many situations.\n",
    "\n",
    "Look into the '.apply()' method (remember you can use '?' in notebooks to see documentation). \n",
    "\n",
    "In the cell below, briefly explain what pandas '.apply()' method is, and what it does."
   ]
  },
  {
   "cell_type": "markdown",
   "metadata": {
    "collapsed": true,
    "deletable": false,
    "nbgrader": {
     "checksum": "c47af7dd87157e80c171d730dec1590e",
     "grade": true,
     "grade_id": "cell-e823042187301644",
     "locked": false,
     "points": 0,
     "schema_version": 1,
     "solution": true
    }
   },
   "source": [
    "YOUR ANSWER HERE"
   ]
  },
  {
   "cell_type": "code",
   "execution_count": null,
   "metadata": {
    "deletable": false,
    "nbgrader": {
     "checksum": "0bdd4232196a1565afdb80eb2afd2c12",
     "grade": false,
     "grade_id": "cell-5bef3033a299977a",
     "locked": false,
     "schema_version": 1,
     "solution": true
    }
   },
   "outputs": [],
   "source": [
    "# 8b) Create a new column in df3 named `predicted_income`. \n",
    "#   This column should includes the income that your model (a1, b1) predicts for each individual given their age. \n",
    "# Hint: you can use 'my_predictions', from above. \n",
    "\n",
    "# YOUR CODE HERE\n",
    "raise NotImplementedError()"
   ]
  },
  {
   "cell_type": "code",
   "execution_count": null,
   "metadata": {
    "deletable": false,
    "editable": false,
    "nbgrader": {
     "checksum": "a638881ef033b83ece3f6f9be9b37906",
     "grade": true,
     "grade_id": "cell-9fc4e69c2fa2ed33",
     "locked": true,
     "points": 0.5,
     "schema_version": 1,
     "solution": false
    }
   },
   "outputs": [],
   "source": [
    "# Tests for 8b\n",
    "\n",
    "assert 'predicted_income' in df3.columns\n"
   ]
  },
  {
   "cell_type": "markdown",
   "metadata": {
    "deletable": false,
    "editable": false,
    "nbgrader": {
     "checksum": "027532f07c2aa1a8f644cdf57203794e",
     "grade": false,
     "grade_id": "cell-2d9686947e9f2633",
     "locked": true,
     "schema_version": 1,
     "solution": false
    }
   },
   "source": [
    "### W6: When do you think that it is NOT appropiate to use prediction models to fill in missing data? "
   ]
  },
  {
   "cell_type": "markdown",
   "metadata": {
    "collapsed": true,
    "deletable": false,
    "nbgrader": {
     "checksum": "b957f725a18176db30becd41386a2ef7",
     "grade": true,
     "grade_id": "cell-d0b519c4be7a9ca9",
     "locked": false,
     "points": 0,
     "schema_version": 1,
     "solution": true
    }
   },
   "source": [
    "In cases of extrapolation, i.e. the points we are adding are out of the bounds of the data we have."
   ]
  },
  {
   "cell_type": "markdown",
   "metadata": {
    "deletable": false,
    "editable": false,
    "nbgrader": {
     "checksum": "134fe3be4538bbbba159c11171994d6c",
     "grade": false,
     "grade_id": "done",
     "locked": true,
     "schema_version": 1,
     "solution": false
    }
   },
   "source": [
    "## Done! Upload this notebook to TritonED"
   ]
  }
 ],
 "metadata": {
  "kernelspec": {
   "display_name": "Python 3",
   "language": "python",
   "name": "python3"
  },
  "language_info": {
   "codemirror_mode": {
    "name": "ipython",
    "version": 3
   },
   "file_extension": ".py",
   "mimetype": "text/x-python",
   "name": "python",
   "nbconvert_exporter": "python",
   "pygments_lexer": "ipython3",
   "version": "3.6.1"
  }
 },
 "nbformat": 4,
 "nbformat_minor": 2
}
